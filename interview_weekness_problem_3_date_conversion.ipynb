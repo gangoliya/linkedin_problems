{
  "nbformat": 4,
  "nbformat_minor": 0,
  "metadata": {
    "colab": {
      "provenance": [],
      "authorship_tag": "ABX9TyMb/oeOO3KlRu5AGbzw+RPk",
      "include_colab_link": true
    },
    "kernelspec": {
      "name": "python3",
      "display_name": "Python 3"
    },
    "language_info": {
      "name": "python"
    }
  },
  "cells": [
    {
      "cell_type": "markdown",
      "metadata": {
        "id": "view-in-github",
        "colab_type": "text"
      },
      "source": [
        "<a href=\"https://colab.research.google.com/github/gangoliya/linkedin_problems/blob/problems/interview_weekness_problem_3_date_conversion.ipynb\" target=\"_parent\"><img src=\"https://colab.research.google.com/assets/colab-badge.svg\" alt=\"Open In Colab\"/></a>"
      ]
    },
    {
      "cell_type": "code",
      "execution_count": 3,
      "metadata": {
        "colab": {
          "base_uri": "https://localhost:8080/"
        },
        "id": "WmGZO6sstSMf",
        "outputId": "271aaaea-b8b4-4db6-ece0-d63cb5c1c85a"
      },
      "outputs": [
        {
          "output_type": "stream",
          "name": "stdout",
          "text": [
            "Collecting pyspark\n",
            "  Downloading pyspark-3.5.1.tar.gz (317.0 MB)\n",
            "\u001b[2K     \u001b[90m━━━━━━━━━━━━━━━━━━━━━━━━━━━━━━━━━━━━━━━━\u001b[0m \u001b[32m317.0/317.0 MB\u001b[0m \u001b[31m3.6 MB/s\u001b[0m eta \u001b[36m0:00:00\u001b[0m\n",
            "\u001b[?25h  Preparing metadata (setup.py) ... \u001b[?25l\u001b[?25hdone\n",
            "Requirement already satisfied: py4j==0.10.9.7 in /usr/local/lib/python3.10/dist-packages (from pyspark) (0.10.9.7)\n",
            "Building wheels for collected packages: pyspark\n",
            "  Building wheel for pyspark (setup.py) ... \u001b[?25l\u001b[?25hdone\n",
            "  Created wheel for pyspark: filename=pyspark-3.5.1-py2.py3-none-any.whl size=317488491 sha256=dc099bce677e95a9151cfc29456d82b2f789d354b48a5eacf6c1677b6ae5841e\n",
            "  Stored in directory: /root/.cache/pip/wheels/80/1d/60/2c256ed38dddce2fdd93be545214a63e02fbd8d74fb0b7f3a6\n",
            "Successfully built pyspark\n",
            "Installing collected packages: pyspark\n",
            "Successfully installed pyspark-3.5.1\n"
          ]
        }
      ],
      "source": [
        "pip install pyspark"
      ]
    },
    {
      "cell_type": "code",
      "source": [
        "from pyspark.sql import SparkSession\n",
        "spark = SparkSession.builder.appName(\"Dates Maybe\").getOrCreate()"
      ],
      "metadata": {
        "id": "QsP9jxwwtl8y"
      },
      "execution_count": 4,
      "outputs": []
    },
    {
      "cell_type": "code",
      "source": [
        "data = [(7499,\"ALLEN\",\"SALESMAN\",7698,\"12-10-2023\",1600,300,30)]\n",
        "\n",
        "from pyspark.sql.types import StructType, StructField, IntegerType, StringType\n",
        "\n",
        "schema = StructType([StructField(\"EMPNO\",IntegerType(),True),\n",
        "                      StructField(\"ENAME\",StringType(),True),\n",
        "                     StructField(\"JOB\",StringType(),True),\n",
        "                     StructField(\"MGR\",IntegerType(),True),\n",
        "                     StructField(\"HIREDATE\",StringType(),True),\n",
        "                     StructField(\"SAL\",IntegerType(),True),\n",
        "                     StructField(\"COMM\",IntegerType(),True),\n",
        "                     StructField(\"DEPTNO\",IntegerType(),True)\n",
        "])\n",
        "\n",
        "df = spark.createDataFrame(data, schema)"
      ],
      "metadata": {
        "id": "QJzwM8Hdt3on"
      },
      "execution_count": 16,
      "outputs": []
    },
    {
      "cell_type": "code",
      "source": [
        "df.show()"
      ],
      "metadata": {
        "colab": {
          "base_uri": "https://localhost:8080/"
        },
        "id": "IMO-lPLyu8Qh",
        "outputId": "46adddc4-360b-401a-bf0b-d80293c5d34b"
      },
      "execution_count": 17,
      "outputs": [
        {
          "output_type": "stream",
          "name": "stdout",
          "text": [
            "+-----+-----+--------+----+----------+----+----+------+\n",
            "|EMPNO|ENAME|     JOB| MGR|  HIREDATE| SAL|COMM|DEPTNO|\n",
            "+-----+-----+--------+----+----------+----+----+------+\n",
            "| 7499|ALLEN|SALESMAN|7698|12-10-2023|1600| 300|    30|\n",
            "+-----+-----+--------+----+----------+----+----+------+\n",
            "\n"
          ]
        }
      ]
    },
    {
      "cell_type": "code",
      "source": [
        "from pyspark.sql.functions import to_date, date_format\n",
        "\n",
        "df.withColumn(\"date_modified\",to_date(df.HIREDATE, \"dd-MM-yyyy\")).show()"
      ],
      "metadata": {
        "colab": {
          "base_uri": "https://localhost:8080/"
        },
        "id": "Z0PI6THZu9Gj",
        "outputId": "28759b5c-f504-4dfb-8290-9f347acdc5a2"
      },
      "execution_count": 22,
      "outputs": [
        {
          "output_type": "stream",
          "name": "stdout",
          "text": [
            "+-----+-----+--------+----+----------+----+----+------+-------------+\n",
            "|EMPNO|ENAME|     JOB| MGR|  HIREDATE| SAL|COMM|DEPTNO|date_modified|\n",
            "+-----+-----+--------+----+----------+----+----+------+-------------+\n",
            "| 7499|ALLEN|SALESMAN|7698|12-10-2023|1600| 300|    30|   2023-10-12|\n",
            "+-----+-----+--------+----+----------+----+----+------+-------------+\n",
            "\n"
          ]
        }
      ]
    }
  ]
}