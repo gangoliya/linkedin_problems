{
  "nbformat": 4,
  "nbformat_minor": 0,
  "metadata": {
    "colab": {
      "provenance": [],
      "authorship_tag": "ABX9TyMVMk3inA+ZQM28a1v6GvZv",
      "include_colab_link": true
    },
    "kernelspec": {
      "name": "python3",
      "display_name": "Python 3"
    },
    "language_info": {
      "name": "python"
    }
  },
  "cells": [
    {
      "cell_type": "markdown",
      "metadata": {
        "id": "view-in-github",
        "colab_type": "text"
      },
      "source": [
        "<a href=\"https://colab.research.google.com/github/gangoliya/linkedin_problems/blob/problems/linkedin_problem_13_pivot.ipynb\" target=\"_parent\"><img src=\"https://colab.research.google.com/assets/colab-badge.svg\" alt=\"Open In Colab\"/></a>"
      ]
    },
    {
      "cell_type": "code",
      "execution_count": 1,
      "metadata": {
        "colab": {
          "base_uri": "https://localhost:8080/"
        },
        "id": "3Na7EUStLpZn",
        "outputId": "98d1edae-7308-4df0-dc59-4c5e1bb6e4da"
      },
      "outputs": [
        {
          "output_type": "stream",
          "name": "stdout",
          "text": [
            "Collecting pyspark\n",
            "  Downloading pyspark-3.5.1.tar.gz (317.0 MB)\n",
            "\u001b[2K     \u001b[90m━━━━━━━━━━━━━━━━━━━━━━━━━━━━━━━━━━━━━━━━\u001b[0m \u001b[32m317.0/317.0 MB\u001b[0m \u001b[31m1.9 MB/s\u001b[0m eta \u001b[36m0:00:00\u001b[0m\n",
            "\u001b[?25h  Preparing metadata (setup.py) ... \u001b[?25l\u001b[?25hdone\n",
            "Requirement already satisfied: py4j==0.10.9.7 in /usr/local/lib/python3.10/dist-packages (from pyspark) (0.10.9.7)\n",
            "Building wheels for collected packages: pyspark\n",
            "  Building wheel for pyspark (setup.py) ... \u001b[?25l\u001b[?25hdone\n",
            "  Created wheel for pyspark: filename=pyspark-3.5.1-py2.py3-none-any.whl size=317488491 sha256=0abbffc71fda0503259eb5c0728dc1cddfe47c08d15350b82696268c9f13a146\n",
            "  Stored in directory: /root/.cache/pip/wheels/80/1d/60/2c256ed38dddce2fdd93be545214a63e02fbd8d74fb0b7f3a6\n",
            "Successfully built pyspark\n",
            "Installing collected packages: pyspark\n",
            "Successfully installed pyspark-3.5.1\n"
          ]
        }
      ],
      "source": [
        "pip install pyspark"
      ]
    },
    {
      "cell_type": "code",
      "source": [
        "from pyspark.sql import SparkSession\n",
        "spark = SparkSession.builder.appName('pivot maybe').getOrCreate()"
      ],
      "metadata": {
        "id": "Mcq9OrHdMQJG"
      },
      "execution_count": 2,
      "outputs": []
    },
    {
      "cell_type": "code",
      "source": [
        "from pyspark.sql.types import StructType, StructField, StringType, IntegerType\n",
        "\n",
        "# Define schema using StructType\n",
        "schema = StructType([\n",
        "StructField(\"id\", IntegerType(), True),\n",
        "StructField(\"name\", StringType(), True),\n",
        "StructField(\"country\", StringType(), True),\n",
        "StructField(\"date_part\", StringType(), True)\n",
        "])\n",
        "# Sample data\n",
        "data = [\n",
        "(1, \"gaga\", \"India\", \"11-02-2022\"),\n",
        "(1, \"katy\", \"UK\", \"11-02-2022\"),\n",
        "(1, \"bey\", \"Europe\", \"11-02-2022\"),\n",
        "(1, \"gaga\", \"US\", \"11-02-2022\"),\n",
        "(2, \"gaga\", None, \"11-02-2022\"),\n",
        "(2, \"katy\", \"India\", \"11-02-2022\"),\n",
        "(2, \"bey\", \"US\", \"15-02-2022\")\n",
        "]\n",
        "\n",
        "\n",
        "df = spark.createDataFrame(data, schema)\n",
        "df.show()"
      ],
      "metadata": {
        "id": "gB0seO4iMo5Q",
        "colab": {
          "base_uri": "https://localhost:8080/"
        },
        "outputId": "cbc0b8bd-a95e-4666-d52f-c1574a68cd2f"
      },
      "execution_count": 3,
      "outputs": [
        {
          "output_type": "stream",
          "name": "stdout",
          "text": [
            "+---+----+-------+----------+\n",
            "| id|name|country| date_part|\n",
            "+---+----+-------+----------+\n",
            "|  1|gaga|  India|11-02-2022|\n",
            "|  1|katy|     UK|11-02-2022|\n",
            "|  1| bey| Europe|11-02-2022|\n",
            "|  1|gaga|     US|11-02-2022|\n",
            "|  2|gaga|   NULL|11-02-2022|\n",
            "|  2|katy|  India|11-02-2022|\n",
            "|  2| bey|     US|15-02-2022|\n",
            "+---+----+-------+----------+\n",
            "\n"
          ]
        }
      ]
    },
    {
      "cell_type": "code",
      "source": [
        "from pyspark.sql.functions import collect_list\n",
        "\n",
        "result_df = df.groupBy(\"id\",\"date_part\").pivot(\"name\").agg(collect_list(\"country\"))\n",
        "result_df.show()"
      ],
      "metadata": {
        "id": "33nMhqNFMqvF",
        "colab": {
          "base_uri": "https://localhost:8080/"
        },
        "outputId": "f9b757d2-eb50-42a4-ec76-df8e95ba60b1"
      },
      "execution_count": 7,
      "outputs": [
        {
          "output_type": "stream",
          "name": "stdout",
          "text": [
            "+---+----------+--------+-----------+-------+\n",
            "| id| date_part|     bey|       gaga|   katy|\n",
            "+---+----------+--------+-----------+-------+\n",
            "|  1|11-02-2022|[Europe]|[India, US]|   [UK]|\n",
            "|  2|11-02-2022|      []|         []|[India]|\n",
            "|  2|15-02-2022|    [US]|         []|     []|\n",
            "+---+----------+--------+-----------+-------+\n",
            "\n"
          ]
        }
      ]
    }
  ]
}