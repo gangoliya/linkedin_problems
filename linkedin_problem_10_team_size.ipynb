{
  "nbformat": 4,
  "nbformat_minor": 0,
  "metadata": {
    "colab": {
      "provenance": [],
      "authorship_tag": "ABX9TyMjrinkFThNohq+Y0n9r006",
      "include_colab_link": true
    },
    "kernelspec": {
      "name": "python3",
      "display_name": "Python 3"
    },
    "language_info": {
      "name": "python"
    }
  },
  "cells": [
    {
      "cell_type": "markdown",
      "metadata": {
        "id": "view-in-github",
        "colab_type": "text"
      },
      "source": [
        "<a href=\"https://colab.research.google.com/github/gangoliya/linkedin_problems/blob/problems/linkedin_problem_10_team_size.ipynb\" target=\"_parent\"><img src=\"https://colab.research.google.com/assets/colab-badge.svg\" alt=\"Open In Colab\"/></a>"
      ]
    },
    {
      "cell_type": "code",
      "execution_count": 3,
      "metadata": {
        "colab": {
          "base_uri": "https://localhost:8080/"
        },
        "id": "q_r-9DYGf8PM",
        "outputId": "656d9fc2-a3f8-4779-b004-3277b88aa512"
      },
      "outputs": [
        {
          "output_type": "stream",
          "name": "stdout",
          "text": [
            "Collecting pyspark\n",
            "  Downloading pyspark-3.5.1.tar.gz (317.0 MB)\n",
            "\u001b[2K     \u001b[90m━━━━━━━━━━━━━━━━━━━━━━━━━━━━━━━━━━━━━━━━\u001b[0m \u001b[32m317.0/317.0 MB\u001b[0m \u001b[31m3.6 MB/s\u001b[0m eta \u001b[36m0:00:00\u001b[0m\n",
            "\u001b[?25h  Preparing metadata (setup.py) ... \u001b[?25l\u001b[?25hdone\n",
            "Requirement already satisfied: py4j==0.10.9.7 in /usr/local/lib/python3.10/dist-packages (from pyspark) (0.10.9.7)\n",
            "Building wheels for collected packages: pyspark\n",
            "  Building wheel for pyspark (setup.py) ... \u001b[?25l\u001b[?25hdone\n",
            "  Created wheel for pyspark: filename=pyspark-3.5.1-py2.py3-none-any.whl size=317488493 sha256=df61d3555cfbf82a46396912f0b347dbb9684a5e381333831147ff2fad2d0a21\n",
            "  Stored in directory: /root/.cache/pip/wheels/80/1d/60/2c256ed38dddce2fdd93be545214a63e02fbd8d74fb0b7f3a6\n",
            "Successfully built pyspark\n",
            "Installing collected packages: pyspark\n",
            "Successfully installed pyspark-3.5.1\n"
          ]
        }
      ],
      "source": [
        "pip install pyspark"
      ]
    },
    {
      "cell_type": "code",
      "source": [
        "from pyspark.sql import SparkSession"
      ],
      "metadata": {
        "id": "ffXBCLKdiHDk"
      },
      "execution_count": 4,
      "outputs": []
    },
    {
      "cell_type": "code",
      "source": [
        "spark = SparkSession.builder.appName('team_size').getOrCreate()"
      ],
      "metadata": {
        "id": "JNFn-W1DiL6H"
      },
      "execution_count": 5,
      "outputs": []
    },
    {
      "cell_type": "code",
      "source": [
        "from pyspark.sql.types import StructType, StructField, IntegerType, StringType\n",
        "\n",
        "# Employee-Team data\n",
        "data = [\n",
        "(1, 8),\n",
        "(2, 8),\n",
        "(3, 8),\n",
        "(4, 7),\n",
        "(5, 9),\n",
        "(6, 9)\n",
        "]\n",
        "# Define schema using StructType\n",
        "schema = StructType([\n",
        "StructField(\"employee_id\", IntegerType(),\n",
        "True),\n",
        "StructField(\"team_id\", IntegerType(),\n",
        "True)\n",
        "])"
      ],
      "metadata": {
        "id": "6BYxt2dEiWvk"
      },
      "execution_count": 6,
      "outputs": []
    },
    {
      "cell_type": "code",
      "source": [
        "df = spark.createDataFrame(data, schema)"
      ],
      "metadata": {
        "id": "39tvYVoBia2P"
      },
      "execution_count": 7,
      "outputs": []
    },
    {
      "cell_type": "code",
      "source": [
        "df.show()"
      ],
      "metadata": {
        "colab": {
          "base_uri": "https://localhost:8080/"
        },
        "id": "NCCjuTaaicbc",
        "outputId": "dd763598-57f9-4087-b696-1a8a18e5bb4e"
      },
      "execution_count": 8,
      "outputs": [
        {
          "output_type": "stream",
          "name": "stdout",
          "text": [
            "+-----------+-------+\n",
            "|employee_id|team_id|\n",
            "+-----------+-------+\n",
            "|          1|      8|\n",
            "|          2|      8|\n",
            "|          3|      8|\n",
            "|          4|      7|\n",
            "|          5|      9|\n",
            "|          6|      9|\n",
            "+-----------+-------+\n",
            "\n"
          ]
        }
      ]
    },
    {
      "cell_type": "code",
      "source": [
        "df_groupped = df.groupBy(\"team_id\").count()"
      ],
      "metadata": {
        "id": "hiBNlFIRiiLO"
      },
      "execution_count": 15,
      "outputs": []
    },
    {
      "cell_type": "code",
      "source": [
        "df_joined = df_groupped.join(df,df.team_id==df_groupped.team_id)"
      ],
      "metadata": {
        "id": "fekpqqQSlh7i"
      },
      "execution_count": 16,
      "outputs": []
    },
    {
      "cell_type": "code",
      "source": [
        "df_joined.show()"
      ],
      "metadata": {
        "colab": {
          "base_uri": "https://localhost:8080/"
        },
        "id": "JbuEubSkltDY",
        "outputId": "8064217b-211f-49b6-9865-1331aa126f9b"
      },
      "execution_count": 17,
      "outputs": [
        {
          "output_type": "stream",
          "name": "stdout",
          "text": [
            "+-------+-----+-----------+-------+\n",
            "|team_id|count|employee_id|team_id|\n",
            "+-------+-----+-----------+-------+\n",
            "|      8|    3|          1|      8|\n",
            "|      8|    3|          2|      8|\n",
            "|      8|    3|          3|      8|\n",
            "|      9|    2|          5|      9|\n",
            "|      9|    2|          6|      9|\n",
            "|      7|    1|          4|      7|\n",
            "+-------+-----+-----------+-------+\n",
            "\n"
          ]
        }
      ]
    },
    {
      "cell_type": "code",
      "source": [
        "df_joined.select(\"employee_id\",\"count\").orderBy(\"employee_id\").show()"
      ],
      "metadata": {
        "colab": {
          "base_uri": "https://localhost:8080/"
        },
        "id": "gKPiFI4NmKUl",
        "outputId": "125668d9-7c23-4134-cd5d-5e6ef6347340"
      },
      "execution_count": 19,
      "outputs": [
        {
          "output_type": "stream",
          "name": "stdout",
          "text": [
            "+-----------+-----+\n",
            "|employee_id|count|\n",
            "+-----------+-----+\n",
            "|          1|    3|\n",
            "|          2|    3|\n",
            "|          3|    3|\n",
            "|          4|    1|\n",
            "|          5|    2|\n",
            "|          6|    2|\n",
            "+-----------+-----+\n",
            "\n"
          ]
        }
      ]
    },
    {
      "cell_type": "code",
      "source": [],
      "metadata": {
        "id": "AmLgyJcImiLV"
      },
      "execution_count": null,
      "outputs": []
    }
  ]
}