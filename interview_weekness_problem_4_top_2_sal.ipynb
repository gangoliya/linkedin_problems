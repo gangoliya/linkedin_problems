{
  "nbformat": 4,
  "nbformat_minor": 0,
  "metadata": {
    "colab": {
      "provenance": [],
      "authorship_tag": "ABX9TyNxtPE4BSRrrWo+q++thG3y",
      "include_colab_link": true
    },
    "kernelspec": {
      "name": "python3",
      "display_name": "Python 3"
    },
    "language_info": {
      "name": "python"
    }
  },
  "cells": [
    {
      "cell_type": "markdown",
      "metadata": {
        "id": "view-in-github",
        "colab_type": "text"
      },
      "source": [
        "<a href=\"https://colab.research.google.com/github/gangoliya/linkedin_problems/blob/problems/interview_weekness_problem_4_top_2_sal.ipynb\" target=\"_parent\"><img src=\"https://colab.research.google.com/assets/colab-badge.svg\" alt=\"Open In Colab\"/></a>"
      ]
    },
    {
      "cell_type": "code",
      "execution_count": 1,
      "metadata": {
        "colab": {
          "base_uri": "https://localhost:8080/"
        },
        "id": "WmGZO6sstSMf",
        "outputId": "91dc8095-8f87-4fb0-b483-15a5fcfe854f"
      },
      "outputs": [
        {
          "output_type": "stream",
          "name": "stdout",
          "text": [
            "Collecting pyspark\n",
            "  Downloading pyspark-3.5.1.tar.gz (317.0 MB)\n",
            "\u001b[2K     \u001b[90m━━━━━━━━━━━━━━━━━━━━━━━━━━━━━━━━━━━━━━━━\u001b[0m \u001b[32m317.0/317.0 MB\u001b[0m \u001b[31m2.2 MB/s\u001b[0m eta \u001b[36m0:00:00\u001b[0m\n",
            "\u001b[?25h  Preparing metadata (setup.py) ... \u001b[?25l\u001b[?25hdone\n",
            "Requirement already satisfied: py4j==0.10.9.7 in /usr/local/lib/python3.10/dist-packages (from pyspark) (0.10.9.7)\n",
            "Building wheels for collected packages: pyspark\n",
            "  Building wheel for pyspark (setup.py) ... \u001b[?25l\u001b[?25hdone\n",
            "  Created wheel for pyspark: filename=pyspark-3.5.1-py2.py3-none-any.whl size=317488491 sha256=05eeea4f0d048ec714d2bb6ee99a4a54b9239c2b3c4d90be18483f192afa7572\n",
            "  Stored in directory: /root/.cache/pip/wheels/80/1d/60/2c256ed38dddce2fdd93be545214a63e02fbd8d74fb0b7f3a6\n",
            "Successfully built pyspark\n",
            "Installing collected packages: pyspark\n",
            "Successfully installed pyspark-3.5.1\n"
          ]
        }
      ],
      "source": [
        "pip install pyspark"
      ]
    },
    {
      "cell_type": "code",
      "source": [
        "from pyspark.sql import SparkSession\n",
        "spark = SparkSession.builder.appName(\"Salaries Maybe\").getOrCreate()"
      ],
      "metadata": {
        "id": "QsP9jxwwtl8y"
      },
      "execution_count": 2,
      "outputs": []
    },
    {
      "cell_type": "code",
      "source": [
        "data = [(7698,\"RAVI\",\"MANAGER\",7839,\"1/1/2023\",50000,30,202),\n",
        "(7782,\"RAM\",\"MANAGER\",7566,\"2/8/2022\",75000,10,200),\n",
        "(7902,\"SCOTT\",\"ANALYST\",7777,\"9/8/2022\",40000,20,201),\n",
        "(1234,\"ALBERT\",\"ANALYST\",7698,\"5/1/2022\",60000,80,203),\n",
        "(8812,\"PRIYA\",\"DE\",6123,\"5/3/2022\",75000,30,205)]\n",
        "\n",
        "from pyspark.sql.types import StructType, StructField, IntegerType, StringType\n",
        "\n",
        "schema = StructType([StructField(\"EMPNO\",IntegerType(),True),\n",
        "                      StructField(\"ENAME\",StringType(),True),\n",
        "                     StructField(\"JOB\",StringType(),True),\n",
        "                     StructField(\"MGR\",IntegerType(),True),\n",
        "                     StructField(\"HIREDATE\",StringType(),True),\n",
        "                     StructField(\"SAL\",IntegerType(),True),\n",
        "                     StructField(\"COMM\",IntegerType(),True),\n",
        "                     StructField(\"DEPTNO\",IntegerType(),True)\n",
        "])\n",
        "\n",
        "df = spark.createDataFrame(data, schema)"
      ],
      "metadata": {
        "id": "QJzwM8Hdt3on"
      },
      "execution_count": 3,
      "outputs": []
    },
    {
      "cell_type": "code",
      "source": [
        "df.show()"
      ],
      "metadata": {
        "colab": {
          "base_uri": "https://localhost:8080/"
        },
        "id": "IMO-lPLyu8Qh",
        "outputId": "d2903ca1-ef3f-484d-92fb-533d30d9985a"
      },
      "execution_count": 4,
      "outputs": [
        {
          "output_type": "stream",
          "name": "stdout",
          "text": [
            "+-----+------+-------+----+--------+-----+----+------+\n",
            "|EMPNO| ENAME|    JOB| MGR|HIREDATE|  SAL|COMM|DEPTNO|\n",
            "+-----+------+-------+----+--------+-----+----+------+\n",
            "| 7698|  RAVI|MANAGER|7839|1/1/2023|50000|  30|   202|\n",
            "| 7782|   RAM|MANAGER|7566|2/8/2022|75000|  10|   200|\n",
            "| 7902| SCOTT|ANALYST|7777|9/8/2022|40000|  20|   201|\n",
            "| 1234|ALBERT|ANALYST|7698|5/1/2022|60000|  80|   203|\n",
            "| 8812| PRIYA|     DE|6123|5/3/2022|75000|  30|   205|\n",
            "+-----+------+-------+----+--------+-----+----+------+\n",
            "\n"
          ]
        }
      ]
    },
    {
      "cell_type": "code",
      "source": [
        "from pyspark.sql.window import Window\n",
        "from pyspark.sql.functions import dense_rank, desc, col\n",
        "\n",
        "windowSpec = Window.orderBy(col(\"SAL\").desc())\n",
        "\n",
        "df_part = df.withColumn(\"Rank\", dense_rank().over(windowSpec))\n",
        "\n",
        "df_part.filter(df_part.Rank==1).show()"
      ],
      "metadata": {
        "colab": {
          "base_uri": "https://localhost:8080/"
        },
        "id": "Z0PI6THZu9Gj",
        "outputId": "88691136-add3-4ddf-d111-e3bb51c76bf0"
      },
      "execution_count": 9,
      "outputs": [
        {
          "output_type": "stream",
          "name": "stdout",
          "text": [
            "+-----+-----+-------+----+--------+-----+----+------+----+\n",
            "|EMPNO|ENAME|    JOB| MGR|HIREDATE|  SAL|COMM|DEPTNO|Rank|\n",
            "+-----+-----+-------+----+--------+-----+----+------+----+\n",
            "| 7782|  RAM|MANAGER|7566|2/8/2022|75000|  10|   200|   1|\n",
            "| 8812|PRIYA|     DE|6123|5/3/2022|75000|  30|   205|   1|\n",
            "+-----+-----+-------+----+--------+-----+----+------+----+\n",
            "\n"
          ]
        }
      ]
    }
  ]
}