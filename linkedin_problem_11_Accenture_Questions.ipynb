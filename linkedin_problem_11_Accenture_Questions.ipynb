{
  "nbformat": 4,
  "nbformat_minor": 0,
  "metadata": {
    "colab": {
      "provenance": [],
      "authorship_tag": "ABX9TyOFGY/aYpMlO10G5tDdCfuW",
      "include_colab_link": true
    },
    "kernelspec": {
      "name": "python3",
      "display_name": "Python 3"
    },
    "language_info": {
      "name": "python"
    }
  },
  "cells": [
    {
      "cell_type": "markdown",
      "metadata": {
        "id": "view-in-github",
        "colab_type": "text"
      },
      "source": [
        "<a href=\"https://colab.research.google.com/github/gangoliya/linkedin_problems/blob/problems/linkedin_problem_11_Accenture_Questions.ipynb\" target=\"_parent\"><img src=\"https://colab.research.google.com/assets/colab-badge.svg\" alt=\"Open In Colab\"/></a>"
      ]
    },
    {
      "cell_type": "code",
      "execution_count": null,
      "metadata": {
        "colab": {
          "base_uri": "https://localhost:8080/"
        },
        "id": "3Na7EUStLpZn",
        "outputId": "3ef4561b-aa05-450f-9d09-5580a4d0b0fa"
      },
      "outputs": [
        {
          "output_type": "stream",
          "name": "stdout",
          "text": [
            "Collecting pyspark\n",
            "  Downloading pyspark-3.5.1.tar.gz (317.0 MB)\n",
            "\u001b[2K     \u001b[90m━━━━━━━━━━━━━━━━━━━━━━━━━━━━━━━━━━━━━━━━\u001b[0m \u001b[32m317.0/317.0 MB\u001b[0m \u001b[31m2.4 MB/s\u001b[0m eta \u001b[36m0:00:00\u001b[0m\n",
            "\u001b[?25h  Preparing metadata (setup.py) ... \u001b[?25l\u001b[?25hdone\n",
            "Requirement already satisfied: py4j==0.10.9.7 in /usr/local/lib/python3.10/dist-packages (from pyspark) (0.10.9.7)\n",
            "Building wheels for collected packages: pyspark\n",
            "  Building wheel for pyspark (setup.py) ... \u001b[?25l\u001b[?25hdone\n",
            "  Created wheel for pyspark: filename=pyspark-3.5.1-py2.py3-none-any.whl size=317488491 sha256=ae638235ee0b925f5a7788b84767ffa84ef09d9d1f1b503d21643a3f2456f662\n",
            "  Stored in directory: /root/.cache/pip/wheels/80/1d/60/2c256ed38dddce2fdd93be545214a63e02fbd8d74fb0b7f3a6\n",
            "Successfully built pyspark\n",
            "Installing collected packages: pyspark\n",
            "Successfully installed pyspark-3.5.1\n"
          ]
        }
      ],
      "source": [
        "pip install pyspark"
      ]
    },
    {
      "cell_type": "code",
      "source": [
        "from pyspark.sql import SparkSession\n",
        "spark = SparkSession.builder.appName('Accenture_maybe').getOrCreate()"
      ],
      "metadata": {
        "id": "Mcq9OrHdMQJG"
      },
      "execution_count": null,
      "outputs": []
    },
    {
      "cell_type": "code",
      "source": [
        "from pyspark.sql.types import StructField, StructType, IntegerType, StringType, DoubleType\n",
        "\n",
        "data=[(1, 'War','great 3D',8.9)\n",
        ",(2, 'Science','fiction',8.5)\n",
        ",(3, 'irish','boring',6.2)\n",
        ",(4, 'Ice song','Fantacy',8.6)\n",
        ",(5, 'House card','Interesting',9.1)]\n",
        "\n",
        "schema=StructType(\n",
        " [\n",
        "StructField(\"ID\", IntegerType(), True),\n",
        "StructField(\"movie\", StringType(), True),\n",
        "StructField(\"description\", StringType(), True),\n",
        "StructField(\"rating\", DoubleType(),True)\n",
        " ]\n",
        " )"
      ],
      "metadata": {
        "id": "gB0seO4iMo5Q"
      },
      "execution_count": null,
      "outputs": []
    },
    {
      "cell_type": "code",
      "source": [
        "df = spark.createDataFrame(data, schema)"
      ],
      "metadata": {
        "id": "33nMhqNFMqvF"
      },
      "execution_count": null,
      "outputs": []
    },
    {
      "cell_type": "code",
      "source": [
        "df.show()"
      ],
      "metadata": {
        "colab": {
          "base_uri": "https://localhost:8080/"
        },
        "id": "rsqdPF3ANHiV",
        "outputId": "0a16f1c6-7e7d-4935-955d-75afd4e56d8e"
      },
      "execution_count": null,
      "outputs": [
        {
          "output_type": "stream",
          "name": "stdout",
          "text": [
            "+---+----------+-----------+------+\n",
            "| ID|     movie|description|rating|\n",
            "+---+----------+-----------+------+\n",
            "|  1|       War|   great 3D|   8.9|\n",
            "|  2|   Science|    fiction|   8.5|\n",
            "|  3|     irish|     boring|   6.2|\n",
            "|  4|  Ice song|    Fantacy|   8.6|\n",
            "|  5|House card|Interesting|   9.1|\n",
            "+---+----------+-----------+------+\n",
            "\n"
          ]
        }
      ]
    },
    {
      "cell_type": "code",
      "source": [
        "from pyspark.sql.functions import col, desc\n",
        "\n",
        "df_final = df.filter((df.ID%2 != 0) & (df.description != 'boring')).orderBy(col(\"ID\").desc())\n",
        "\n",
        "df_final.show()"
      ],
      "metadata": {
        "colab": {
          "base_uri": "https://localhost:8080/"
        },
        "id": "xpKvAbbLNInZ",
        "outputId": "3baf2509-35c6-47cf-cbc9-a52503c94844"
      },
      "execution_count": null,
      "outputs": [
        {
          "output_type": "stream",
          "name": "stdout",
          "text": [
            "+---+----------+-----------+------+\n",
            "| ID|     movie|description|rating|\n",
            "+---+----------+-----------+------+\n",
            "|  5|House card|Interesting|   9.1|\n",
            "|  1|       War|   great 3D|   8.9|\n",
            "+---+----------+-----------+------+\n",
            "\n"
          ]
        }
      ]
    }
  ]
}